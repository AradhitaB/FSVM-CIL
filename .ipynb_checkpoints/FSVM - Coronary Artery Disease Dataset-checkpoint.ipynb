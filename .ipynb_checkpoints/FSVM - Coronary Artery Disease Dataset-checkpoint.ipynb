{
 "cells": [
  {
   "cell_type": "markdown",
   "metadata": {},
   "source": [
    "# Importing the data"
   ]
  },
  {
   "cell_type": "code",
   "execution_count": 1,
   "metadata": {},
   "outputs": [],
   "source": [
    "%matplotlib inline\n",
    "import numpy as np\n",
    "import pandas as pd\n",
    "from pandas.plotting import scatter_matrix\n",
    "from sklearn import metrics, svm\n",
    "from sklearn.model_selection import cross_val_score\n",
    "from sklearn.model_selection import RandomizedSearchCV\n",
    "from sklearn.model_selection import StratifiedShuffleSplit\n",
    "from sklearn.pipeline import Pipeline\n",
    "from sklearn.impute import SimpleImputer\n",
    "from sklearn.preprocessing import StandardScaler, LabelEncoder\n",
    "import matplotlib.pyplot as plt\n",
    "import seaborn as sns\n",
    "import cvxopt\n",
    "import skfuzzy\n",
    "from skfuzzy import control as ctrl"
   ]
  },
  {
   "cell_type": "code",
   "execution_count": 2,
   "metadata": {
    "scrolled": false
   },
   "outputs": [
    {
     "data": {
      "text/html": [
       "<div>\n",
       "<style scoped>\n",
       "    .dataframe tbody tr th:only-of-type {\n",
       "        vertical-align: middle;\n",
       "    }\n",
       "\n",
       "    .dataframe tbody tr th {\n",
       "        vertical-align: top;\n",
       "    }\n",
       "\n",
       "    .dataframe thead th {\n",
       "        text-align: right;\n",
       "    }\n",
       "</style>\n",
       "<table border=\"1\" class=\"dataframe\">\n",
       "  <thead>\n",
       "    <tr style=\"text-align: right;\">\n",
       "      <th></th>\n",
       "      <th>age</th>\n",
       "      <th>sex</th>\n",
       "      <th>cp</th>\n",
       "      <th>trestbps</th>\n",
       "      <th>chol</th>\n",
       "      <th>fbs</th>\n",
       "      <th>restecg</th>\n",
       "      <th>thalach</th>\n",
       "      <th>exang</th>\n",
       "      <th>oldpeak</th>\n",
       "      <th>slope</th>\n",
       "      <th>ca</th>\n",
       "      <th>thal</th>\n",
       "      <th>class</th>\n",
       "    </tr>\n",
       "  </thead>\n",
       "  <tbody>\n",
       "    <tr>\n",
       "      <th>0</th>\n",
       "      <td>63</td>\n",
       "      <td>Male</td>\n",
       "      <td>Typical Angina</td>\n",
       "      <td>145</td>\n",
       "      <td>233</td>\n",
       "      <td>True</td>\n",
       "      <td>Left ventricular hypertrophy</td>\n",
       "      <td>150</td>\n",
       "      <td>No</td>\n",
       "      <td>2.3</td>\n",
       "      <td>Downsloping</td>\n",
       "      <td>0</td>\n",
       "      <td>Fixed</td>\n",
       "      <td>0</td>\n",
       "    </tr>\n",
       "    <tr>\n",
       "      <th>1</th>\n",
       "      <td>67</td>\n",
       "      <td>Male</td>\n",
       "      <td>Asymptomatic</td>\n",
       "      <td>160</td>\n",
       "      <td>286</td>\n",
       "      <td>False</td>\n",
       "      <td>Left ventricular hypertrophy</td>\n",
       "      <td>108</td>\n",
       "      <td>Yes</td>\n",
       "      <td>1.5</td>\n",
       "      <td>Flat</td>\n",
       "      <td>3</td>\n",
       "      <td>Normal</td>\n",
       "      <td>2</td>\n",
       "    </tr>\n",
       "    <tr>\n",
       "      <th>2</th>\n",
       "      <td>67</td>\n",
       "      <td>Male</td>\n",
       "      <td>Asymptomatic</td>\n",
       "      <td>120</td>\n",
       "      <td>229</td>\n",
       "      <td>False</td>\n",
       "      <td>Left ventricular hypertrophy</td>\n",
       "      <td>129</td>\n",
       "      <td>Yes</td>\n",
       "      <td>2.6</td>\n",
       "      <td>Flat</td>\n",
       "      <td>2</td>\n",
       "      <td>Reversible defect</td>\n",
       "      <td>1</td>\n",
       "    </tr>\n",
       "    <tr>\n",
       "      <th>3</th>\n",
       "      <td>37</td>\n",
       "      <td>Male</td>\n",
       "      <td>Nonanginal pain</td>\n",
       "      <td>130</td>\n",
       "      <td>250</td>\n",
       "      <td>False</td>\n",
       "      <td>Normal</td>\n",
       "      <td>187</td>\n",
       "      <td>No</td>\n",
       "      <td>3.5</td>\n",
       "      <td>Downsloping</td>\n",
       "      <td>0</td>\n",
       "      <td>Normal</td>\n",
       "      <td>0</td>\n",
       "    </tr>\n",
       "    <tr>\n",
       "      <th>4</th>\n",
       "      <td>41</td>\n",
       "      <td>Female</td>\n",
       "      <td>Atypical Angina</td>\n",
       "      <td>130</td>\n",
       "      <td>204</td>\n",
       "      <td>False</td>\n",
       "      <td>Left ventricular hypertrophy</td>\n",
       "      <td>172</td>\n",
       "      <td>No</td>\n",
       "      <td>1.4</td>\n",
       "      <td>Unsloping</td>\n",
       "      <td>0</td>\n",
       "      <td>Normal</td>\n",
       "      <td>0</td>\n",
       "    </tr>\n",
       "  </tbody>\n",
       "</table>\n",
       "</div>"
      ],
      "text/plain": [
       "   age     sex               cp  trestbps  chol    fbs  \\\n",
       "0   63    Male   Typical Angina       145   233   True   \n",
       "1   67    Male     Asymptomatic       160   286  False   \n",
       "2   67    Male     Asymptomatic       120   229  False   \n",
       "3   37    Male  Nonanginal pain       130   250  False   \n",
       "4   41  Female  Atypical Angina       130   204  False   \n",
       "\n",
       "                        restecg  thalach exang  oldpeak        slope  ca  \\\n",
       "0  Left ventricular hypertrophy      150    No      2.3  Downsloping   0   \n",
       "1  Left ventricular hypertrophy      108   Yes      1.5         Flat   3   \n",
       "2  Left ventricular hypertrophy      129   Yes      2.6         Flat   2   \n",
       "3                        Normal      187    No      3.5  Downsloping   0   \n",
       "4  Left ventricular hypertrophy      172    No      1.4    Unsloping   0   \n",
       "\n",
       "                thal  class  \n",
       "0              Fixed      0  \n",
       "1             Normal      2  \n",
       "2  Reversible defect      1  \n",
       "3             Normal      0  \n",
       "4             Normal      0  "
      ]
     },
     "execution_count": 2,
     "metadata": {},
     "output_type": "execute_result"
    }
   ],
   "source": [
    "df = pd.read_csv(\"Coronary_artery.csv\")\n",
    "df.head()"
   ]
  },
  {
   "cell_type": "code",
   "execution_count": 3,
   "metadata": {
    "scrolled": true
   },
   "outputs": [
    {
     "name": "stdout",
     "output_type": "stream",
     "text": [
      "age           int64\n",
      "sex          object\n",
      "cp           object\n",
      "trestbps      int64\n",
      "chol          int64\n",
      "fbs            bool\n",
      "restecg      object\n",
      "thalach       int64\n",
      "exang        object\n",
      "oldpeak     float64\n",
      "slope        object\n",
      "ca            int64\n",
      "thal         object\n",
      "class         int64\n",
      "dtype: object\n"
     ]
    }
   ],
   "source": [
    "print(df.dtypes)"
   ]
  },
  {
   "cell_type": "code",
   "execution_count": 4,
   "metadata": {},
   "outputs": [],
   "source": [
    "df.rename(columns = {'class' : 'target'}, inplace = True)"
   ]
  },
  {
   "cell_type": "code",
   "execution_count": 5,
   "metadata": {
    "scrolled": true
   },
   "outputs": [
    {
     "name": "stdout",
     "output_type": "stream",
     "text": [
      "['Male' 'Female']\n",
      "______\n",
      "['Typical Angina' 'Asymptomatic' 'Nonanginal pain' 'Atypical Angina']\n",
      "______\n",
      "[ True False]\n",
      "______\n",
      "['Left ventricular hypertrophy' 'Normal' 'Having ST-T wave abnormal']\n",
      "______\n",
      "['No' 'Yes']\n",
      "______\n",
      "['Downsloping' 'Flat' 'Unsloping']\n",
      "______\n",
      "['Fixed' 'Normal' 'Reversible defect']\n",
      "______\n"
     ]
    }
   ],
   "source": [
    "print(df['sex'].unique())\n",
    "print(\"______\")\n",
    "print(df['cp'].unique())\n",
    "print(\"______\")\n",
    "print(df['fbs'].unique())\n",
    "print(\"______\")\n",
    "print(df['restecg'].unique())\n",
    "print(\"______\")\n",
    "print(df['exang'].unique())\n",
    "print(\"______\")\n",
    "print(df['slope'].unique())\n",
    "print(\"______\")\n",
    "print(df['thal'].unique())\n",
    "print(\"______\")"
   ]
  },
  {
   "cell_type": "code",
   "execution_count": 6,
   "metadata": {
    "scrolled": true
   },
   "outputs": [],
   "source": [
    "ltype = LabelEncoder()\n",
    "df['sex'] = ltype.fit_transform(df['sex'])\n",
    "df['cp'] = ltype.fit_transform(df['cp'])\n",
    "df['fbs'] = ltype.fit_transform(df['fbs'])\n",
    "df['restecg'] = ltype.fit_transform(df['restecg'])\n",
    "df['exang'] = ltype.fit_transform(df['exang'])\n",
    "df['slope'] = ltype.fit_transform(df['slope'])\n",
    "df['thal'] = ltype.fit_transform(df['thal'])"
   ]
  },
  {
   "cell_type": "code",
   "execution_count": 7,
   "metadata": {
    "scrolled": false
   },
   "outputs": [
    {
     "name": "stdout",
     "output_type": "stream",
     "text": [
      "[1 0]\n",
      "______\n",
      "[3 0 2 1]\n",
      "______\n",
      "[1 0]\n",
      "______\n",
      "[1 2 0]\n",
      "______\n",
      "[0 1]\n",
      "______\n",
      "[0 1 2]\n",
      "______\n",
      "[0 1 2]\n",
      "______\n"
     ]
    }
   ],
   "source": [
    "print(df['sex'].unique())\n",
    "print(\"______\")\n",
    "print(df['cp'].unique())\n",
    "print(\"______\")\n",
    "print(df['fbs'].unique())\n",
    "print(\"______\")\n",
    "print(df['restecg'].unique())\n",
    "print(\"______\")\n",
    "print(df['exang'].unique())\n",
    "print(\"______\")\n",
    "print(df['slope'].unique())\n",
    "print(\"______\")\n",
    "print(df['thal'].unique())\n",
    "print(\"______\")"
   ]
  },
  {
   "cell_type": "markdown",
   "metadata": {},
   "source": [
    "sex : 'Male' - 1,  'Female' - 0 <br>\n",
    "chest pain type : 'Typical Angina' - 3,  'Asymptomatic' - 0, 'Nonanginal pain' - 2, 'Atypical Angina' - 1 <br>\n",
    "fasting blood sugar :  True - 1, False - 0 <br>\n",
    "rest ecg : 'Left ventricular hypertrophy' - 1, 'Normal' - 2, 'Having ST-T wave abnormal' - 0 <br>\n",
    "exang : 'No' - 0,  'Yes' - 1 <br>\n",
    "slope : 'Downsloping' - 0, 'Flat' - 1, 'Unsloping' - 2 <br>\n",
    "thal : 'Fixed' - 0, 'Normal' - 1, 'Reversible defect' - 2 <br>"
   ]
  },
  {
   "cell_type": "code",
   "execution_count": 8,
   "metadata": {
    "scrolled": false
   },
   "outputs": [
    {
     "name": "stdout",
     "output_type": "stream",
     "text": [
      "age           int64\n",
      "sex           int32\n",
      "cp            int32\n",
      "trestbps      int64\n",
      "chol          int64\n",
      "fbs           int64\n",
      "restecg       int32\n",
      "thalach       int64\n",
      "exang         int32\n",
      "oldpeak     float64\n",
      "slope         int32\n",
      "ca            int64\n",
      "thal          int32\n",
      "target        int64\n",
      "dtype: object\n"
     ]
    }
   ],
   "source": [
    "print(df.dtypes)"
   ]
  },
  {
   "cell_type": "code",
   "execution_count": 9,
   "metadata": {
    "scrolled": false
   },
   "outputs": [
    {
     "data": {
      "text/html": [
       "<div>\n",
       "<style scoped>\n",
       "    .dataframe tbody tr th:only-of-type {\n",
       "        vertical-align: middle;\n",
       "    }\n",
       "\n",
       "    .dataframe tbody tr th {\n",
       "        vertical-align: top;\n",
       "    }\n",
       "\n",
       "    .dataframe thead th {\n",
       "        text-align: right;\n",
       "    }\n",
       "</style>\n",
       "<table border=\"1\" class=\"dataframe\">\n",
       "  <thead>\n",
       "    <tr style=\"text-align: right;\">\n",
       "      <th></th>\n",
       "      <th>age</th>\n",
       "      <th>sex</th>\n",
       "      <th>cp</th>\n",
       "      <th>trestbps</th>\n",
       "      <th>chol</th>\n",
       "      <th>fbs</th>\n",
       "      <th>restecg</th>\n",
       "      <th>thalach</th>\n",
       "      <th>exang</th>\n",
       "      <th>oldpeak</th>\n",
       "      <th>slope</th>\n",
       "      <th>ca</th>\n",
       "      <th>thal</th>\n",
       "      <th>target</th>\n",
       "    </tr>\n",
       "  </thead>\n",
       "  <tbody>\n",
       "    <tr>\n",
       "      <th>count</th>\n",
       "      <td>297.000000</td>\n",
       "      <td>297.000000</td>\n",
       "      <td>297.000000</td>\n",
       "      <td>297.000000</td>\n",
       "      <td>297.000000</td>\n",
       "      <td>297.000000</td>\n",
       "      <td>297.000000</td>\n",
       "      <td>297.000000</td>\n",
       "      <td>297.000000</td>\n",
       "      <td>297.000000</td>\n",
       "      <td>297.000000</td>\n",
       "      <td>297.000000</td>\n",
       "      <td>297.000000</td>\n",
       "      <td>297.000000</td>\n",
       "    </tr>\n",
       "    <tr>\n",
       "      <th>mean</th>\n",
       "      <td>54.542088</td>\n",
       "      <td>0.676768</td>\n",
       "      <td>0.956229</td>\n",
       "      <td>131.693603</td>\n",
       "      <td>247.350168</td>\n",
       "      <td>0.144781</td>\n",
       "      <td>1.481481</td>\n",
       "      <td>149.599327</td>\n",
       "      <td>0.326599</td>\n",
       "      <td>1.055556</td>\n",
       "      <td>1.397306</td>\n",
       "      <td>0.676768</td>\n",
       "      <td>1.326599</td>\n",
       "      <td>0.946128</td>\n",
       "    </tr>\n",
       "    <tr>\n",
       "      <th>std</th>\n",
       "      <td>9.049736</td>\n",
       "      <td>0.468500</td>\n",
       "      <td>1.033936</td>\n",
       "      <td>17.762806</td>\n",
       "      <td>51.997583</td>\n",
       "      <td>0.352474</td>\n",
       "      <td>0.526809</td>\n",
       "      <td>22.941562</td>\n",
       "      <td>0.469761</td>\n",
       "      <td>1.166123</td>\n",
       "      <td>0.618187</td>\n",
       "      <td>0.938965</td>\n",
       "      <td>0.585061</td>\n",
       "      <td>1.234551</td>\n",
       "    </tr>\n",
       "    <tr>\n",
       "      <th>min</th>\n",
       "      <td>29.000000</td>\n",
       "      <td>0.000000</td>\n",
       "      <td>0.000000</td>\n",
       "      <td>94.000000</td>\n",
       "      <td>126.000000</td>\n",
       "      <td>0.000000</td>\n",
       "      <td>0.000000</td>\n",
       "      <td>71.000000</td>\n",
       "      <td>0.000000</td>\n",
       "      <td>0.000000</td>\n",
       "      <td>0.000000</td>\n",
       "      <td>0.000000</td>\n",
       "      <td>0.000000</td>\n",
       "      <td>0.000000</td>\n",
       "    </tr>\n",
       "    <tr>\n",
       "      <th>25%</th>\n",
       "      <td>48.000000</td>\n",
       "      <td>0.000000</td>\n",
       "      <td>0.000000</td>\n",
       "      <td>120.000000</td>\n",
       "      <td>211.000000</td>\n",
       "      <td>0.000000</td>\n",
       "      <td>1.000000</td>\n",
       "      <td>133.000000</td>\n",
       "      <td>0.000000</td>\n",
       "      <td>0.000000</td>\n",
       "      <td>1.000000</td>\n",
       "      <td>0.000000</td>\n",
       "      <td>1.000000</td>\n",
       "      <td>0.000000</td>\n",
       "    </tr>\n",
       "    <tr>\n",
       "      <th>50%</th>\n",
       "      <td>56.000000</td>\n",
       "      <td>1.000000</td>\n",
       "      <td>1.000000</td>\n",
       "      <td>130.000000</td>\n",
       "      <td>243.000000</td>\n",
       "      <td>0.000000</td>\n",
       "      <td>1.000000</td>\n",
       "      <td>153.000000</td>\n",
       "      <td>0.000000</td>\n",
       "      <td>0.800000</td>\n",
       "      <td>1.000000</td>\n",
       "      <td>0.000000</td>\n",
       "      <td>1.000000</td>\n",
       "      <td>0.000000</td>\n",
       "    </tr>\n",
       "    <tr>\n",
       "      <th>75%</th>\n",
       "      <td>61.000000</td>\n",
       "      <td>1.000000</td>\n",
       "      <td>2.000000</td>\n",
       "      <td>140.000000</td>\n",
       "      <td>276.000000</td>\n",
       "      <td>0.000000</td>\n",
       "      <td>2.000000</td>\n",
       "      <td>166.000000</td>\n",
       "      <td>1.000000</td>\n",
       "      <td>1.600000</td>\n",
       "      <td>2.000000</td>\n",
       "      <td>1.000000</td>\n",
       "      <td>2.000000</td>\n",
       "      <td>2.000000</td>\n",
       "    </tr>\n",
       "    <tr>\n",
       "      <th>max</th>\n",
       "      <td>77.000000</td>\n",
       "      <td>1.000000</td>\n",
       "      <td>3.000000</td>\n",
       "      <td>200.000000</td>\n",
       "      <td>564.000000</td>\n",
       "      <td>1.000000</td>\n",
       "      <td>2.000000</td>\n",
       "      <td>202.000000</td>\n",
       "      <td>1.000000</td>\n",
       "      <td>6.200000</td>\n",
       "      <td>2.000000</td>\n",
       "      <td>3.000000</td>\n",
       "      <td>2.000000</td>\n",
       "      <td>4.000000</td>\n",
       "    </tr>\n",
       "  </tbody>\n",
       "</table>\n",
       "</div>"
      ],
      "text/plain": [
       "              age         sex          cp    trestbps        chol         fbs  \\\n",
       "count  297.000000  297.000000  297.000000  297.000000  297.000000  297.000000   \n",
       "mean    54.542088    0.676768    0.956229  131.693603  247.350168    0.144781   \n",
       "std      9.049736    0.468500    1.033936   17.762806   51.997583    0.352474   \n",
       "min     29.000000    0.000000    0.000000   94.000000  126.000000    0.000000   \n",
       "25%     48.000000    0.000000    0.000000  120.000000  211.000000    0.000000   \n",
       "50%     56.000000    1.000000    1.000000  130.000000  243.000000    0.000000   \n",
       "75%     61.000000    1.000000    2.000000  140.000000  276.000000    0.000000   \n",
       "max     77.000000    1.000000    3.000000  200.000000  564.000000    1.000000   \n",
       "\n",
       "          restecg     thalach       exang     oldpeak       slope          ca  \\\n",
       "count  297.000000  297.000000  297.000000  297.000000  297.000000  297.000000   \n",
       "mean     1.481481  149.599327    0.326599    1.055556    1.397306    0.676768   \n",
       "std      0.526809   22.941562    0.469761    1.166123    0.618187    0.938965   \n",
       "min      0.000000   71.000000    0.000000    0.000000    0.000000    0.000000   \n",
       "25%      1.000000  133.000000    0.000000    0.000000    1.000000    0.000000   \n",
       "50%      1.000000  153.000000    0.000000    0.800000    1.000000    0.000000   \n",
       "75%      2.000000  166.000000    1.000000    1.600000    2.000000    1.000000   \n",
       "max      2.000000  202.000000    1.000000    6.200000    2.000000    3.000000   \n",
       "\n",
       "             thal      target  \n",
       "count  297.000000  297.000000  \n",
       "mean     1.326599    0.946128  \n",
       "std      0.585061    1.234551  \n",
       "min      0.000000    0.000000  \n",
       "25%      1.000000    0.000000  \n",
       "50%      1.000000    0.000000  \n",
       "75%      2.000000    2.000000  \n",
       "max      2.000000    4.000000  "
      ]
     },
     "execution_count": 9,
     "metadata": {},
     "output_type": "execute_result"
    }
   ],
   "source": [
    "df.describe()"
   ]
  },
  {
   "cell_type": "markdown",
   "metadata": {},
   "source": [
    "# Remove Null Values"
   ]
  },
  {
   "cell_type": "code",
   "execution_count": 10,
   "metadata": {
    "scrolled": true
   },
   "outputs": [
    {
     "data": {
      "text/plain": [
       "age         0\n",
       "sex         0\n",
       "cp          0\n",
       "trestbps    0\n",
       "chol        0\n",
       "fbs         0\n",
       "restecg     0\n",
       "thalach     0\n",
       "exang       0\n",
       "oldpeak     0\n",
       "slope       0\n",
       "ca          0\n",
       "thal        0\n",
       "target      0\n",
       "dtype: int64"
      ]
     },
     "execution_count": 10,
     "metadata": {},
     "output_type": "execute_result"
    }
   ],
   "source": [
    "df.isnull().sum()"
   ]
  },
  {
   "cell_type": "code",
   "execution_count": 11,
   "metadata": {},
   "outputs": [],
   "source": [
    "#Null removal not required"
   ]
  },
  {
   "cell_type": "markdown",
   "metadata": {},
   "source": [
    "# Discovery and Visualisation"
   ]
  },
  {
   "cell_type": "markdown",
   "metadata": {},
   "source": [
    "## Disease rates"
   ]
  },
  {
   "cell_type": "code",
   "execution_count": 12,
   "metadata": {
    "scrolled": true
   },
   "outputs": [
    {
     "data": {
      "image/png": "[encoded data removed]",
      "text/plain": [
       "<Figure size 1080x432 with 7 Axes>"
      ]
     },
     "metadata": {},
     "output_type": "display_data"
    }
   ],
   "source": [
    "plt.figure(figsize = (15, 6))\n",
    "plot_params2 = {'kind':'pie', 'startangle': 90, 'autopct':'%1.1f%%', 'colors':['green', 'red', 'orange', 'blue', 'yellow']}\n",
    "\n",
    "# how many have disease vs how many don't\n",
    "plt.subplot2grid((2,4), (0,0))\n",
    "df.target.value_counts() \\\n",
    ".plot(title='Total disease rate', **plot_params2).axis('equal')\n",
    "\n",
    "\n",
    "# disease rate wrt Sex\n",
    "df_male = df.target[df['sex'] == 1].value_counts(normalize=True, sort=False)\n",
    "df_female = df.target[df['sex'] == 0].value_counts(normalize=True, sort=False)\n",
    "\n",
    "## male disease plot\n",
    "plt.subplot2grid((2,4),(0,1))\n",
    "df_male.plot(title='Male disease rate', **plot_params2).axis('equal')\n",
    "\n",
    "## female survival plot\n",
    "plt.subplot2grid((2,4),(0,2))\n",
    "df_female.plot(title='Female disease rate', **plot_params2).axis('equal')\n",
    "\n",
    "\n",
    "\n",
    "# Survival rate wrt chest pain type\n",
    "df_tangina = df.target[df['cp'] == 3].value_counts(normalize=True, sort=False)\n",
    "df_atangina = df.target[df['cp'] == 1].value_counts(normalize=True, sort=False)\n",
    "df_nonangina = df.target[df['cp'] == 2].value_counts(normalize=True, sort=False)\n",
    "df_asympt = df.target[df['cp'] == 0].value_counts(normalize=True, sort=False)\n",
    "\n",
    "\n",
    "## typical angina\n",
    "plt.subplot2grid((2,4),(1,0))\n",
    "df_tangina.plot(title='typical anginal pain-disease rate', **plot_params2).axis('equal')\n",
    "\n",
    "## atypical angina\n",
    "plt.subplot2grid((2,4),(1,1))\n",
    "df_atangina.plot(title='atypical anginal pain-disease rate', **plot_params2).axis('equal')\n",
    "\n",
    "## non anginal\n",
    "plt.subplot2grid((2,4),(1,2))\n",
    "df_nonangina.plot(title='non-anginal pain-disease rate', **plot_params2).axis('equal')\n",
    "\n",
    "## asymptomatic\n",
    "plt.subplot2grid((2,4),(1,3))\n",
    "df_asympt.plot(title='asymptomatic pain-disease rate', **plot_params2).axis('equal')\n",
    "\n",
    "\n",
    "plt.show()"
   ]
  },
  {
   "cell_type": "markdown",
   "metadata": {},
   "source": [
    "As you can see, this is an example of a class imbalanced dataset as the skewed strongly towards the \"no disease\" level oof coronary artery disease"
   ]
  },
  {
   "cell_type": "code",
   "execution_count": 13,
   "metadata": {
    "scrolled": false
   },
   "outputs": [
    {
     "data": {
      "image/png": "[encoded data removed]",
      "text/plain": [
       "<Figure size 936x288 with 1 Axes>"
      ]
     },
     "metadata": {
      "needs_background": "light"
     },
     "output_type": "display_data"
    }
   ],
   "source": [
    "plt.figure(figsize=(13,4))\n",
    "\n",
    "# plots a bar graph of the age distribution\n",
    "df.age.plot(kind='kde', alpha=0.6, title='Age distribution', xlim=(0, 100))\n",
    "\n",
    "plt.show()"
   ]
  },
  {
   "cell_type": "markdown",
   "metadata": {},
   "source": [
    "Most of the cases are seen in people near 60 years of age"
   ]
  },
  {
   "cell_type": "code",
   "execution_count": 14,
   "metadata": {
    "scrolled": true
   },
   "outputs": [
    {
     "data": {
      "image/png": "[encoded data removed]",
      "text/plain": [
       "<Figure size 576x432 with 2 Axes>"
      ]
     },
     "metadata": {
      "needs_background": "light"
     },
     "output_type": "display_data"
    }
   ],
   "source": [
    "fig = plt.figure(figsize=(8,6))\n",
    "sns.heatmap(df.corr(method = 'pearson'), square= True, cmap=\"YlGnBu\")\n",
    "plt.show()"
   ]
  },
  {
   "cell_type": "markdown",
   "metadata": {},
   "source": [
    "*Correlation matrix*\n",
    "Here, we can see that the features that have the highest correlation to target are ca, oldpeak, thalach, cp. Basic algorithms are expected to work off of these the most to find the classification model."
   ]
  },
  {
   "cell_type": "code",
   "execution_count": 15,
   "metadata": {
    "scrolled": true
   },
   "outputs": [
    {
     "data": {
      "text/plain": [
       "target      1.000000\n",
       "ca          0.521178\n",
       "oldpeak     0.501461\n",
       "exang       0.391613\n",
       "thal        0.351855\n",
       "sex         0.226797\n",
       "age         0.222156\n",
       "trestbps    0.159620\n",
       "chol        0.066448\n",
       "fbs         0.049040\n",
       "restecg    -0.214515\n",
       "slope      -0.374689\n",
       "cp         -0.412093\n",
       "thalach    -0.420639\n",
       "Name: target, dtype: float64"
      ]
     },
     "execution_count": 15,
     "metadata": {},
     "output_type": "execute_result"
    }
   ],
   "source": [
    "corr_matrix = df.corr()\n",
    "corr_matrix['target'].sort_values(ascending=False)"
   ]
  },
  {
   "cell_type": "markdown",
   "metadata": {},
   "source": [
    "Visualising the correlation between data"
   ]
  },
  {
   "cell_type": "markdown",
   "metadata": {},
   "source": [
    "# Scaling and Splitting"
   ]
  },
  {
   "cell_type": "code",
   "execution_count": 16,
   "metadata": {},
   "outputs": [],
   "source": [
    "X = df.iloc[:,:-1].values\n",
    "y = df.iloc[:, -1].values"
   ]
  },
  {
   "cell_type": "code",
   "execution_count": 17,
   "metadata": {},
   "outputs": [
    {
     "data": {
      "text/plain": [
       "array([ 67. ,   1. ,   0. , 160. , 286. ,   0. ,   1. , 108. ,   1. ,\n",
       "         1.5,   1. ,   3. ,   1. ])"
      ]
     },
     "execution_count": 17,
     "metadata": {},
     "output_type": "execute_result"
    }
   ],
   "source": [
    "X[1]"
   ]
  },
  {
   "cell_type": "code",
   "execution_count": 18,
   "metadata": {},
   "outputs": [],
   "source": [
    "scaler = StandardScaler()\n",
    "X = scaler.fit_transform(X)"
   ]
  },
  {
   "cell_type": "code",
   "execution_count": 19,
   "metadata": {
    "scrolled": true
   },
   "outputs": [
    {
     "data": {
      "text/plain": [
       "array([ 1.3789285 ,  0.69109474, -0.92640442,  1.59626645,  0.74455507,\n",
       "       -0.41145029, -0.91550121, -1.81633388,  1.43591632,  0.38177332,\n",
       "       -0.6437811 ,  2.47842525, -0.55917302])"
      ]
     },
     "execution_count": 19,
     "metadata": {},
     "output_type": "execute_result"
    }
   ],
   "source": [
    "X[1]"
   ]
  },
  {
   "cell_type": "code",
   "execution_count": 20,
   "metadata": {
    "scrolled": true
   },
   "outputs": [],
   "source": [
    "sss = StratifiedShuffleSplit(n_splits=2, test_size=0.3, random_state=32)\n",
    "for train_index, test_index in sss.split(X,y):\n",
    "    X_train, X_test = X[train_index], X[test_index]\n",
    "    y_train, y_test = y[train_index], y[test_index]"
   ]
  },
  {
   "cell_type": "markdown",
   "metadata": {},
   "source": [
    "## Support Vector Machines"
   ]
  },
  {
   "cell_type": "code",
   "execution_count": 21,
   "metadata": {},
   "outputs": [
    {
     "data": {
      "text/plain": [
       "SVC(C=1.0, break_ties=False, cache_size=200, class_weight=None, coef0=0.0,\n",
       "    decision_function_shape='ovr', degree=3, gamma='scale', kernel='rbf',\n",
       "    max_iter=-1, probability=False, random_state=None, shrinking=True,\n",
       "    tol=0.001, verbose=False)"
      ]
     },
     "execution_count": 21,
     "metadata": {},
     "output_type": "execute_result"
    }
   ],
   "source": [
    "svc = svm.SVC(kernel = \"rbf\")\n",
    "svc.fit(X_train, y_train)"
   ]
  },
  {
   "cell_type": "code",
   "execution_count": 22,
   "metadata": {},
   "outputs": [],
   "source": [
    "y_pred = svc.predict(X_test)"
   ]
  },
  {
   "cell_type": "code",
   "execution_count": 23,
   "metadata": {
    "scrolled": true
   },
   "outputs": [
    {
     "name": "stdout",
     "output_type": "stream",
     "text": [
      "              precision    recall  f1-score   support\n",
      "\n",
      "           0       0.71      0.96      0.81        48\n",
      "           1       0.25      0.12      0.17        16\n",
      "           2       0.36      0.36      0.36        11\n",
      "           3       0.67      0.36      0.47        11\n",
      "           4       0.00      0.00      0.00         4\n",
      "\n",
      "    accuracy                           0.62        90\n",
      "   macro avg       0.40      0.36      0.36        90\n",
      "weighted avg       0.55      0.62      0.57        90\n",
      "\n"
     ]
    },
    {
     "name": "stderr",
     "output_type": "stream",
     "text": [
      "C:\\Users\\aradh\\anaconda3\\lib\\site-packages\\sklearn\\metrics\\_classification.py:1272: UndefinedMetricWarning: Precision and F-score are ill-defined and being set to 0.0 in labels with no predicted samples. Use `zero_division` parameter to control this behavior.\n",
      "  _warn_prf(average, modifier, msg_start, len(result))\n"
     ]
    }
   ],
   "source": [
    "print(metrics.classification_report(y_test, y_pred))"
   ]
  },
  {
   "cell_type": "code",
   "execution_count": 24,
   "metadata": {
    "scrolled": true
   },
   "outputs": [
    {
     "data": {
      "text/plain": [
       "<matplotlib.axes._subplots.AxesSubplot at 0x21bb9ca5d48>"
      ]
     },
     "execution_count": 24,
     "metadata": {},
     "output_type": "execute_result"
    },
    {
     "data": {
      "image/png": "[encoded data removed]",
      "text/plain": [
       "<Figure size 432x288 with 2 Axes>"
      ]
     },
     "metadata": {
      "needs_background": "light"
     },
     "output_type": "display_data"
    }
   ],
   "source": [
    "sns.heatmap(metrics.confusion_matrix(y_test, y_pred), annot=True)"
   ]
  },
  {
   "cell_type": "markdown",
   "metadata": {},
   "source": [
    "The heatmap shows how the results are skewed towards the class that had most tuples (no disease - 0)"
   ]
  },
  {
   "cell_type": "markdown",
   "metadata": {},
   "source": [
    " # FSVM-CIL"
   ]
  },
  {
   "cell_type": "code",
   "execution_count": 25,
   "metadata": {},
   "outputs": [],
   "source": [
    "# import convex optimization package\n",
    "from cvxopt import matrix as c_matrix\n",
    "from cvxopt import solvers as c_solvers\n",
    "\n",
    "# define guassian kernel (depends on distance)\n",
    "# K(X1,X2) = exponent(-sigma||X1-X1||^2)\n",
    "\n",
    "def gaussian_kernel(xg, yg, sigma=100.0):\n",
    "    x=np.asarray(xg)\n",
    "    y=np.asarray(yg)\n",
    "    return np.exp((-np.linalg.norm(x-y)**2) / (2 * (sigma ** 2)))\n",
    "\n",
    "# define FSVM object\n",
    "\n",
    "class FSVM(object):\n",
    "    \n",
    "    #object initialisation\n",
    "    def __init__(self, kernel = gaussian_kernel, C=None):\n",
    "        self.kernel = kernel\n",
    "        self.C = C\n",
    "        if self.C is not None: \n",
    "            self.C = float(self.C)\n",
    "    \n",
    "    #Fuzzy membership function\n",
    "    \n",
    "    def m_func(self, X, y, type = 1):\n",
    "        n_samples, n_featuers = X.shape\n",
    "        \n",
    "        # calculate gaussian kernels\n",
    "        \n",
    "        self.K = np.zeros((n_samples, n_samples))\n",
    "        for i in range(n_samples):\n",
    "            for j in range(n_samples):\n",
    "                self.K[i,j] = self.kernel(X[i], X[j])\n",
    "        \n",
    "        # defining variables for Quadratic problem\n",
    "        P = c_matrix(np.outer(y,y) *self.K)\n",
    "        q = c_matrix(np.ones(n_samples)*-1)\n",
    "        A = c_matrix(y, (1, n_samples))\n",
    "        A = c_matrix(A, (1, n_samples), 'd')\n",
    "        b = c_matrix(0.0)\n",
    "        \n",
    "        if self.C is None:\n",
    "            G = c_matrix(np.diag(np.ones(n_samples) * -1))\n",
    "            h = c_matrix(np.zeros(n_samples))\n",
    "        else:\n",
    "            tmp1 = np.diag(np.ones(n_samples) * -1)\n",
    "            tmp2 = np.identity(n_samples)\n",
    "            G = c_matrix(np.vstack((tmp1, tmp2)))\n",
    "            tmp1 = np.zeros(n_samples)\n",
    "            tmp2 = np.ones(n_samples) * self.C\n",
    "            h = c_matrix(np.hstack((tmp1, tmp2)))  \n",
    "        \n",
    "        # Solve the QP\n",
    "        \n",
    "        self.solution = c_solvers.qp(P,q,G,h,A,b)\n",
    "        print(self.solution['status'])                # check solution has been dfound\n",
    "        \n",
    "        #find Lagrange multipliers\n",
    "        lm = np.ravel(self.solution['x'])\n",
    "        lm_org = np.ravel(self.solution['x'])\n",
    "        # Since svm have non legrange multipliers, assign non zero values\n",
    "        supvec = lm > 1e-5\n",
    "        index = np.arange(len(lm))[supvec]\n",
    "        self.lm_org = lm\n",
    "        self.lm = lm[supvec]         # number of support vectors\n",
    "        self.supvec = X[supvec]\n",
    "        self.supvec_y = y[supvec]\n",
    "        self.supvec_yorg = y\n",
    "        print(\"%d support vectors out of %d points\" % (len(self.lm), n_samples))\n",
    "        \n",
    "        X = np.asarray(X)\n",
    "        \n",
    "        #calculate intercept \n",
    "        \n",
    "        self.ic = 0\n",
    "        for i in range(len(self.lm)):\n",
    "            self.ic += self.supvec_y[i]\n",
    "            self.ic -= np.sum(self.lm * self.supvec_y * self.K[index[i],supvec])\n",
    "        self.ic /= len(self.lm)\n",
    "        \n",
    "        # calculate weight vector\n",
    "        w_phi = 0\n",
    "        total = 0\n",
    "        for i in range(len(self.lm_org)):\n",
    "            w_phi = self.lm_org[i] * self.supvec_yorg[i] * self.K[i]\n",
    "        \n",
    "        #hyperplane (to calculate value)\n",
    "        self.hyp = np.zeros(n_samples)\n",
    "        for i in range (len(self.lm_org)):\n",
    "            self.hyp += self.supvec_yorg[i] * (w_phi+self.ic)\n",
    "        \n",
    "        # fuzzy membership functions - linear and exponential\n",
    "        f_func = np.zeros((n_samples))\n",
    "        f_func = np.asarray(f_func)\n",
    "        beta = 0.8\n",
    "        if type ==1:\n",
    "            for i in range(n_samples):\n",
    "                f_func[i] = 1 - self.hyp[i]/(self.hyp.max() + 0.00001)\n",
    "        else:\n",
    "            for i in range(n_samples):\n",
    "                f_func[i] = 2/(1+beta*self.hyp[i])\n",
    "        \n",
    "        min_count =0\n",
    "        maj_count = 0\n",
    "        for i in range (len(y)):\n",
    "            if y[i] == 0:\n",
    "                min_count += 1;\n",
    "            else:\n",
    "                maj_count+=1;\n",
    "        r_pos = 1\n",
    "        r_neg = min_count/maj_count #minority-to-majority class ratio\n",
    "        self.m = f_func[0:maj_count]*r_pos\n",
    "        self.m = np.append(self.m, f_func[maj_count:]*r_neg)\n",
    "        \n",
    "    # FIT FUNCTION\n",
    "        \n",
    "    def fit(self, X, y, kernel = gaussian_kernel):\n",
    "        self.m_func(X, y)\n",
    "        self.kernel = kernel\n",
    "        n_samples, n_features = X.shape\n",
    "        \n",
    "        # Gram matrix\n",
    "        Kfsvm = np.zeros((n_samples, n_samples))\n",
    "        for i in range(n_samples):\n",
    "            for j in range(n_samples):\n",
    "                Kfsvm[i,j] = gaussian_kernel(self.m[i], self.m[j])\n",
    "        \n",
    "        P = c_matrix(np.outer(y,y) * Kfsvm)\n",
    "        q = c_matrix(np.ones(n_samples) * -1)\n",
    "        A = c_matrix(y, (1,n_samples))\n",
    "        A = c_matrix(A, (1,n_samples), 'd') #changes done\n",
    "        b = c_matrix(0.0)\n",
    "        \n",
    "        if self.C is None:\n",
    "            G = c_matrix(np.diag(np.ones(n_samples) * -1))\n",
    "            h = c_matrix(np.zeros(n_samples))\n",
    "            \n",
    "        else:\n",
    "            tmp1 = np.diag(np.ones(n_samples) * -1)\n",
    "            tmp2 = np.identity(n_samples)\n",
    "            G = c_matrix(np.vstack((tmp1, tmp2)))\n",
    "            tmp1 = np.zeros(n_samples)\n",
    "            tmp2 = np.ones(n_samples) * self.C\n",
    "            h = c_matrix(np.hstack((tmp1, tmp2)))\n",
    "        \n",
    "        fsolution = c_solvers.qp(P, q, G, h, A, b)\n",
    "        print(fsolution['status'])\n",
    "        lm = np.ravel(fsolution['x'])\n",
    "        lm_org = np.ravel(fsolution['x'])\n",
    "        # Support vectors have non zero lagrange multipliers\n",
    "        #  Use m matrix calculated in m_func\n",
    "        for i in range(n_samples):\n",
    "            supvec=np.logical_or(lm_org <self.m, lm_org > 1e-5)\n",
    "        \n",
    "        index = np.arange(len(lm))[supvec]\n",
    "        self.lm = lm[supvec]\n",
    "        self.supvec = self.m[supvec]\n",
    "        self.supvec_y = y[supvec]\n",
    "\n",
    "        # Intercept\n",
    "        self.ic = 0\n",
    "        for i in range(len(self.lm)):\n",
    "            self.ic += self.supvec_y[i]\n",
    "            self.ic -= np.sum(self.lm * self.supvec_y * Kfsvm[index[i],supvec])\n",
    "        self.ic /= len(self.lm)\n",
    "\n",
    "        # Weight vector\n",
    "        self.w = None        \n",
    "        \n",
    "    def project(self, X):\n",
    "        y_predict = np.zeros(len(X))\n",
    "        X=np.asarray(X)\n",
    "        for i in range(len(X)):\n",
    "            s = 0\n",
    "            for lm, supvec_y, supvec in zip(self.lm, self.supvec_y, self.supvec):\n",
    "                s += lm * supvec_y * gaussian_kernel(X[i], supvec)\n",
    "            y_predict[i] = s\n",
    "        return y_predict + self.ic\n",
    "\n",
    "    def predict(self, X):\n",
    "        return np.sign(self.project(X))"
   ]
  },
  {
   "cell_type": "code",
   "execution_count": 26,
   "metadata": {
    "scrolled": false
   },
   "outputs": [
    {
     "name": "stdout",
     "output_type": "stream",
     "text": [
      "     pcost       dcost       gap    pres   dres\n",
      " 0: -1.3057e+02 -4.5698e+02  2e+03  2e+00  3e-15\n",
      " 1: -9.7704e+01 -3.0378e+02  3e+02  3e-01  2e-15\n",
      " 2: -9.7335e+01 -1.4313e+02  6e+01  4e-02  1e-14\n",
      " 3: -1.1126e+02 -1.1256e+02  2e+00  1e-03  7e-15\n",
      " 4: -1.1199e+02 -1.1201e+02  2e-02  1e-05  4e-15\n",
      " 5: -1.1200e+02 -1.1200e+02  2e-04  1e-07  4e-15\n",
      " 6: -1.1200e+02 -1.1200e+02  2e-06  1e-09  6e-15\n",
      "Optimal solution found.\n",
      "optimal\n",
      "112 support vectors out of 207 points\n",
      "     pcost       dcost       gap    pres   dres\n",
      " 0: -1.3081e+02 -4.5598e+02  2e+03  2e+00  3e-15\n",
      " 1: -9.7803e+01 -3.0265e+02  3e+02  3e-01  3e-15\n",
      " 2: -9.7407e+01 -1.4270e+02  6e+01  4e-02  1e-14\n",
      " 3: -1.1128e+02 -1.1255e+02  2e+00  1e-03  4e-15\n",
      " 4: -1.1199e+02 -1.1201e+02  2e-02  1e-05  3e-15\n",
      " 5: -1.1200e+02 -1.1200e+02  2e-04  1e-07  2e-15\n",
      " 6: -1.1200e+02 -1.1200e+02  2e-06  1e-09  7e-15\n",
      "Optimal solution found.\n",
      "optimal\n"
     ]
    }
   ],
   "source": [
    "clf = FSVM(C = 1)\n",
    "clf.fit(X_train, y_train)\n",
    "y_predfsvm = clf.predict(X_test)"
   ]
  },
  {
   "cell_type": "code",
   "execution_count": 27,
   "metadata": {
    "scrolled": true
   },
   "outputs": [
    {
     "name": "stdout",
     "output_type": "stream",
     "text": [
      "68 out of 90 predictions correct\n",
      "Accuracy 0.7555555555555555\n",
      "Precision 0.85\n"
     ]
    }
   ],
   "source": [
    "tp = np.sum(y_predfsvm == y_test)\n",
    "fp = 0\n",
    "for i in range(len(y_test)):\n",
    "    if y_predfsvm[i] == 1 and y_test[i] != 1:\n",
    "        fp += 1\n",
    "print(\"%d out of %d predictions correct\" % (tp, len(y_test)))\n",
    "print(\"Accuracy\",tp/len(y_test))\n",
    "print(\"Precision\", tp/(tp+fp))"
   ]
  }
 ],
 "metadata": {
  "kernelspec": {
   "display_name": "Python 3",
   "language": "python",
   "name": "python3"
  },
  "language_info": {
   "codemirror_mode": {
    "name": "ipython",
    "version": 3
   },
   "file_extension": ".py",
   "mimetype": "text/x-python",
   "name": "python",
   "nbconvert_exporter": "python",
   "pygments_lexer": "ipython3",
   "version": "3.7.6"
  }
 },
 "nbformat": 4,
 "nbformat_minor": 4
}
