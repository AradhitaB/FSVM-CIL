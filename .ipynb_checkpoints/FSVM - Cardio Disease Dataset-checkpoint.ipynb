{
 "cells": [
  {
   "cell_type": "markdown",
   "metadata": {},
   "source": [
    "# Importing the data"
   ]
  },
  {
   "cell_type": "code",
   "execution_count": 1,
   "metadata": {},
   "outputs": [],
   "source": [
    "%matplotlib inline\n",
    "import numpy as np\n",
    "import pandas as pd\n",
    "from pandas.plotting import scatter_matrix\n",
    "from sklearn import metrics, svm\n",
    "from sklearn.model_selection import cross_val_score\n",
    "from sklearn.model_selection import RandomizedSearchCV\n",
    "from sklearn.model_selection import StratifiedShuffleSplit\n",
    "from sklearn.pipeline import Pipeline\n",
    "from sklearn.impute import SimpleImputer\n",
    "from sklearn.preprocessing import StandardScaler\n",
    "import matplotlib.pyplot as plt\n",
    "import seaborn as sns\n",
    "import cvxopt\n",
    "import skfuzzy\n",
    "from skfuzzy import control as ctrl"
   ]
  },
  {
   "cell_type": "code",
   "execution_count": 2,
   "metadata": {
    "scrolled": false
   },
   "outputs": [
    {
     "data": {
      "text/html": [
       "<div>\n",
       "<style scoped>\n",
       "    .dataframe tbody tr th:only-of-type {\n",
       "        vertical-align: middle;\n",
       "    }\n",
       "\n",
       "    .dataframe tbody tr th {\n",
       "        vertical-align: top;\n",
       "    }\n",
       "\n",
       "    .dataframe thead th {\n",
       "        text-align: right;\n",
       "    }\n",
       "</style>\n",
       "<table border=\"1\" class=\"dataframe\">\n",
       "  <thead>\n",
       "    <tr style=\"text-align: right;\">\n",
       "      <th></th>\n",
       "      <th>id</th>\n",
       "      <th>age</th>\n",
       "      <th>gender</th>\n",
       "      <th>height</th>\n",
       "      <th>weight</th>\n",
       "      <th>ap_hi</th>\n",
       "      <th>ap_lo</th>\n",
       "      <th>cholesterol</th>\n",
       "      <th>gluc</th>\n",
       "      <th>smoke</th>\n",
       "      <th>alco</th>\n",
       "      <th>active</th>\n",
       "      <th>cardio</th>\n",
       "    </tr>\n",
       "  </thead>\n",
       "  <tbody>\n",
       "    <tr>\n",
       "      <th>0</th>\n",
       "      <td>0</td>\n",
       "      <td>18393</td>\n",
       "      <td>2</td>\n",
       "      <td>168</td>\n",
       "      <td>62.0</td>\n",
       "      <td>110</td>\n",
       "      <td>80</td>\n",
       "      <td>1</td>\n",
       "      <td>1</td>\n",
       "      <td>0</td>\n",
       "      <td>0</td>\n",
       "      <td>1</td>\n",
       "      <td>0</td>\n",
       "    </tr>\n",
       "    <tr>\n",
       "      <th>1</th>\n",
       "      <td>1</td>\n",
       "      <td>20228</td>\n",
       "      <td>1</td>\n",
       "      <td>156</td>\n",
       "      <td>85.0</td>\n",
       "      <td>140</td>\n",
       "      <td>90</td>\n",
       "      <td>3</td>\n",
       "      <td>1</td>\n",
       "      <td>0</td>\n",
       "      <td>0</td>\n",
       "      <td>1</td>\n",
       "      <td>1</td>\n",
       "    </tr>\n",
       "    <tr>\n",
       "      <th>2</th>\n",
       "      <td>2</td>\n",
       "      <td>18857</td>\n",
       "      <td>1</td>\n",
       "      <td>165</td>\n",
       "      <td>64.0</td>\n",
       "      <td>130</td>\n",
       "      <td>70</td>\n",
       "      <td>3</td>\n",
       "      <td>1</td>\n",
       "      <td>0</td>\n",
       "      <td>0</td>\n",
       "      <td>0</td>\n",
       "      <td>1</td>\n",
       "    </tr>\n",
       "    <tr>\n",
       "      <th>3</th>\n",
       "      <td>3</td>\n",
       "      <td>17623</td>\n",
       "      <td>2</td>\n",
       "      <td>169</td>\n",
       "      <td>82.0</td>\n",
       "      <td>150</td>\n",
       "      <td>100</td>\n",
       "      <td>1</td>\n",
       "      <td>1</td>\n",
       "      <td>0</td>\n",
       "      <td>0</td>\n",
       "      <td>1</td>\n",
       "      <td>1</td>\n",
       "    </tr>\n",
       "    <tr>\n",
       "      <th>4</th>\n",
       "      <td>4</td>\n",
       "      <td>17474</td>\n",
       "      <td>1</td>\n",
       "      <td>156</td>\n",
       "      <td>56.0</td>\n",
       "      <td>100</td>\n",
       "      <td>60</td>\n",
       "      <td>1</td>\n",
       "      <td>1</td>\n",
       "      <td>0</td>\n",
       "      <td>0</td>\n",
       "      <td>0</td>\n",
       "      <td>0</td>\n",
       "    </tr>\n",
       "  </tbody>\n",
       "</table>\n",
       "</div>"
      ],
      "text/plain": [
       "   id    age  gender  height  weight  ap_hi  ap_lo  cholesterol  gluc  smoke  \\\n",
       "0   0  18393       2     168    62.0    110     80            1     1      0   \n",
       "1   1  20228       1     156    85.0    140     90            3     1      0   \n",
       "2   2  18857       1     165    64.0    130     70            3     1      0   \n",
       "3   3  17623       2     169    82.0    150    100            1     1      0   \n",
       "4   4  17474       1     156    56.0    100     60            1     1      0   \n",
       "\n",
       "   alco  active  cardio  \n",
       "0     0       1       0  \n",
       "1     0       1       1  \n",
       "2     0       0       1  \n",
       "3     0       1       1  \n",
       "4     0       0       0  "
      ]
     },
     "execution_count": 2,
     "metadata": {},
     "output_type": "execute_result"
    }
   ],
   "source": [
    "df = pd.read_csv(\"cardio_train.csv\")\n",
    "df.head()"
   ]
  },
  {
   "cell_type": "code",
   "execution_count": 3,
   "metadata": {
    "scrolled": true
   },
   "outputs": [
    {
     "data": {
      "text/html": [
       "<div>\n",
       "<style scoped>\n",
       "    .dataframe tbody tr th:only-of-type {\n",
       "        vertical-align: middle;\n",
       "    }\n",
       "\n",
       "    .dataframe tbody tr th {\n",
       "        vertical-align: top;\n",
       "    }\n",
       "\n",
       "    .dataframe thead th {\n",
       "        text-align: right;\n",
       "    }\n",
       "</style>\n",
       "<table border=\"1\" class=\"dataframe\">\n",
       "  <thead>\n",
       "    <tr style=\"text-align: right;\">\n",
       "      <th></th>\n",
       "      <th>id</th>\n",
       "      <th>age</th>\n",
       "      <th>gender</th>\n",
       "      <th>height</th>\n",
       "      <th>weight</th>\n",
       "      <th>ap_hi</th>\n",
       "      <th>ap_lo</th>\n",
       "      <th>cholesterol</th>\n",
       "      <th>gluc</th>\n",
       "      <th>smoke</th>\n",
       "      <th>alco</th>\n",
       "      <th>active</th>\n",
       "      <th>cardio</th>\n",
       "    </tr>\n",
       "  </thead>\n",
       "  <tbody>\n",
       "    <tr>\n",
       "      <th>count</th>\n",
       "      <td>2851.000000</td>\n",
       "      <td>2851.000000</td>\n",
       "      <td>2851.000000</td>\n",
       "      <td>2851.000000</td>\n",
       "      <td>2851.000000</td>\n",
       "      <td>2851.000000</td>\n",
       "      <td>2851.000000</td>\n",
       "      <td>2851.000000</td>\n",
       "      <td>2851.000000</td>\n",
       "      <td>2851.000000</td>\n",
       "      <td>2851.000000</td>\n",
       "      <td>2851.000000</td>\n",
       "      <td>2851.000000</td>\n",
       "    </tr>\n",
       "    <tr>\n",
       "      <th>mean</th>\n",
       "      <td>2007.767450</td>\n",
       "      <td>19489.006314</td>\n",
       "      <td>1.353560</td>\n",
       "      <td>164.374956</td>\n",
       "      <td>74.572571</td>\n",
       "      <td>126.951596</td>\n",
       "      <td>98.699754</td>\n",
       "      <td>1.382673</td>\n",
       "      <td>1.236759</td>\n",
       "      <td>0.090845</td>\n",
       "      <td>0.052964</td>\n",
       "      <td>0.794809</td>\n",
       "      <td>0.495966</td>\n",
       "    </tr>\n",
       "    <tr>\n",
       "      <th>std</th>\n",
       "      <td>1163.004231</td>\n",
       "      <td>2497.627411</td>\n",
       "      <td>0.478159</td>\n",
       "      <td>7.998556</td>\n",
       "      <td>14.989969</td>\n",
       "      <td>27.498984</td>\n",
       "      <td>218.063090</td>\n",
       "      <td>0.693201</td>\n",
       "      <td>0.583152</td>\n",
       "      <td>0.287439</td>\n",
       "      <td>0.224001</td>\n",
       "      <td>0.403912</td>\n",
       "      <td>0.500071</td>\n",
       "    </tr>\n",
       "    <tr>\n",
       "      <th>min</th>\n",
       "      <td>0.000000</td>\n",
       "      <td>14297.000000</td>\n",
       "      <td>1.000000</td>\n",
       "      <td>76.000000</td>\n",
       "      <td>40.000000</td>\n",
       "      <td>10.000000</td>\n",
       "      <td>0.000000</td>\n",
       "      <td>1.000000</td>\n",
       "      <td>1.000000</td>\n",
       "      <td>0.000000</td>\n",
       "      <td>0.000000</td>\n",
       "      <td>0.000000</td>\n",
       "      <td>0.000000</td>\n",
       "    </tr>\n",
       "    <tr>\n",
       "      <th>25%</th>\n",
       "      <td>1005.000000</td>\n",
       "      <td>17635.500000</td>\n",
       "      <td>1.000000</td>\n",
       "      <td>159.000000</td>\n",
       "      <td>65.000000</td>\n",
       "      <td>120.000000</td>\n",
       "      <td>80.000000</td>\n",
       "      <td>1.000000</td>\n",
       "      <td>1.000000</td>\n",
       "      <td>0.000000</td>\n",
       "      <td>0.000000</td>\n",
       "      <td>1.000000</td>\n",
       "      <td>0.000000</td>\n",
       "    </tr>\n",
       "    <tr>\n",
       "      <th>50%</th>\n",
       "      <td>2002.000000</td>\n",
       "      <td>19754.000000</td>\n",
       "      <td>1.000000</td>\n",
       "      <td>165.000000</td>\n",
       "      <td>72.000000</td>\n",
       "      <td>120.000000</td>\n",
       "      <td>80.000000</td>\n",
       "      <td>1.000000</td>\n",
       "      <td>1.000000</td>\n",
       "      <td>0.000000</td>\n",
       "      <td>0.000000</td>\n",
       "      <td>1.000000</td>\n",
       "      <td>0.000000</td>\n",
       "    </tr>\n",
       "    <tr>\n",
       "      <th>75%</th>\n",
       "      <td>3020.000000</td>\n",
       "      <td>21309.000000</td>\n",
       "      <td>2.000000</td>\n",
       "      <td>170.000000</td>\n",
       "      <td>83.000000</td>\n",
       "      <td>140.000000</td>\n",
       "      <td>90.000000</td>\n",
       "      <td>2.000000</td>\n",
       "      <td>1.000000</td>\n",
       "      <td>0.000000</td>\n",
       "      <td>0.000000</td>\n",
       "      <td>1.000000</td>\n",
       "      <td>1.000000</td>\n",
       "    </tr>\n",
       "    <tr>\n",
       "      <th>max</th>\n",
       "      <td>4013.000000</td>\n",
       "      <td>23661.000000</td>\n",
       "      <td>2.000000</td>\n",
       "      <td>198.000000</td>\n",
       "      <td>200.000000</td>\n",
       "      <td>906.000000</td>\n",
       "      <td>10000.000000</td>\n",
       "      <td>3.000000</td>\n",
       "      <td>3.000000</td>\n",
       "      <td>1.000000</td>\n",
       "      <td>1.000000</td>\n",
       "      <td>1.000000</td>\n",
       "      <td>1.000000</td>\n",
       "    </tr>\n",
       "  </tbody>\n",
       "</table>\n",
       "</div>"
      ],
      "text/plain": [
       "                id           age       gender       height       weight  \\\n",
       "count  2851.000000   2851.000000  2851.000000  2851.000000  2851.000000   \n",
       "mean   2007.767450  19489.006314     1.353560   164.374956    74.572571   \n",
       "std    1163.004231   2497.627411     0.478159     7.998556    14.989969   \n",
       "min       0.000000  14297.000000     1.000000    76.000000    40.000000   \n",
       "25%    1005.000000  17635.500000     1.000000   159.000000    65.000000   \n",
       "50%    2002.000000  19754.000000     1.000000   165.000000    72.000000   \n",
       "75%    3020.000000  21309.000000     2.000000   170.000000    83.000000   \n",
       "max    4013.000000  23661.000000     2.000000   198.000000   200.000000   \n",
       "\n",
       "             ap_hi         ap_lo  cholesterol         gluc        smoke  \\\n",
       "count  2851.000000   2851.000000  2851.000000  2851.000000  2851.000000   \n",
       "mean    126.951596     98.699754     1.382673     1.236759     0.090845   \n",
       "std      27.498984    218.063090     0.693201     0.583152     0.287439   \n",
       "min      10.000000      0.000000     1.000000     1.000000     0.000000   \n",
       "25%     120.000000     80.000000     1.000000     1.000000     0.000000   \n",
       "50%     120.000000     80.000000     1.000000     1.000000     0.000000   \n",
       "75%     140.000000     90.000000     2.000000     1.000000     0.000000   \n",
       "max     906.000000  10000.000000     3.000000     3.000000     1.000000   \n",
       "\n",
       "              alco       active       cardio  \n",
       "count  2851.000000  2851.000000  2851.000000  \n",
       "mean      0.052964     0.794809     0.495966  \n",
       "std       0.224001     0.403912     0.500071  \n",
       "min       0.000000     0.000000     0.000000  \n",
       "25%       0.000000     1.000000     0.000000  \n",
       "50%       0.000000     1.000000     0.000000  \n",
       "75%       0.000000     1.000000     1.000000  \n",
       "max       1.000000     1.000000     1.000000  "
      ]
     },
     "execution_count": 3,
     "metadata": {},
     "output_type": "execute_result"
    }
   ],
   "source": [
    "df.describe()"
   ]
  },
  {
   "cell_type": "code",
   "execution_count": 4,
   "metadata": {
    "scrolled": true
   },
   "outputs": [
    {
     "name": "stdout",
     "output_type": "stream",
     "text": [
      "id               int64\n",
      "age              int64\n",
      "gender           int64\n",
      "height           int64\n",
      "weight         float64\n",
      "ap_hi            int64\n",
      "ap_lo            int64\n",
      "cholesterol      int64\n",
      "gluc             int64\n",
      "smoke            int64\n",
      "alco             int64\n",
      "active           int64\n",
      "cardio           int64\n",
      "dtype: object\n"
     ]
    }
   ],
   "source": [
    "print(df.dtypes)"
   ]
  },
  {
   "cell_type": "markdown",
   "metadata": {},
   "source": [
    "# Remove Null Values"
   ]
  },
  {
   "cell_type": "code",
   "execution_count": 5,
   "metadata": {
    "scrolled": false
   },
   "outputs": [
    {
     "data": {
      "text/plain": [
       "id             0\n",
       "age            0\n",
       "gender         0\n",
       "height         0\n",
       "weight         0\n",
       "ap_hi          0\n",
       "ap_lo          0\n",
       "cholesterol    0\n",
       "gluc           0\n",
       "smoke          0\n",
       "alco           0\n",
       "active         0\n",
       "cardio         0\n",
       "dtype: int64"
      ]
     },
     "execution_count": 5,
     "metadata": {},
     "output_type": "execute_result"
    }
   ],
   "source": [
    "df.isnull().sum()"
   ]
  },
  {
   "cell_type": "code",
   "execution_count": 6,
   "metadata": {},
   "outputs": [],
   "source": [
    "#Null removal not required"
   ]
  },
  {
   "cell_type": "markdown",
   "metadata": {},
   "source": [
    "# Discovery and Visualisation"
   ]
  },
  {
   "cell_type": "markdown",
   "metadata": {},
   "source": [
    "## Disease rates"
   ]
  },
  {
   "cell_type": "code",
   "execution_count": 7,
   "metadata": {},
   "outputs": [
    {
     "name": "stdout",
     "output_type": "stream",
     "text": [
      "[1 3 2]\n"
     ]
    }
   ],
   "source": [
    "print(df['cholesterol'].unique())"
   ]
  },
  {
   "cell_type": "markdown",
   "metadata": {},
   "source": [
    "cholesterol | 1: normal, 2: above normal, 3: well above normal"
   ]
  },
  {
   "cell_type": "code",
   "execution_count": 8,
   "metadata": {
    "scrolled": true
   },
   "outputs": [
    {
     "data": {
      "text/plain": [
       "(-1.101855342840767,\n",
       " 1.1035238096520343,\n",
       " -1.1032108644454686,\n",
       " 1.100152898306927)"
      ]
     },
     "execution_count": 8,
     "metadata": {},
     "output_type": "execute_result"
    },
    {
     "data": {
      "image/png": "[encoded data removed]",
      "text/plain": [
       "<Figure size 1080x432 with 3 Axes>"
      ]
     },
     "metadata": {},
     "output_type": "display_data"
    }
   ],
   "source": [
    "plt.figure(figsize = (15, 6))\n",
    "plot_params1 = {'kind':'pie', 'startangle': 90, 'autopct':'%1.1f%%', 'colors':['red', 'green']}\n",
    "plot_params2 = {'kind':'pie', 'startangle': 90, 'autopct':'%1.1f%%', 'colors':['green', 'red']}\n",
    "\n",
    "# how many have disease vs how many don't\n",
    "plt.subplot2grid((2,4), (0,0))\n",
    "df.cardio.value_counts() \\\n",
    ".plot(title='Total disease rate', **plot_params1).axis('equal')\n",
    "\n",
    "\n",
    "# disease rate wrt Sex\n",
    "df_male = df.cardio[df['gender'] == 2].value_counts(normalize=True, sort=False)\n",
    "df_female = df.cardio[df['gender'] == 1].value_counts(normalize=True, sort=False)\n",
    "\n",
    "## male disease plot\n",
    "plt.subplot2grid((2,4),(0,1))\n",
    "df_male.plot(title='Male disease rate', **plot_params2).axis('equal')\n",
    "\n",
    "## female disease plot\n",
    "plt.subplot2grid((2,4),(0,2))\n",
    "df_female.plot(title='Female disease rate', **plot_params2).axis('equal')"
   ]
  },
  {
   "cell_type": "markdown",
   "metadata": {},
   "source": [
    "This is just an example of what the data looks like. <br>\n",
    "The data is quite balanced, as both values of target are almsot equally present.<br>"
   ]
  },
  {
   "cell_type": "code",
   "execution_count": 9,
   "metadata": {
    "scrolled": true
   },
   "outputs": [
    {
     "data": {
      "image/png": "[encoded data removed]",
      "text/plain": [
       "<Figure size 576x432 with 2 Axes>"
      ]
     },
     "metadata": {
      "needs_background": "light"
     },
     "output_type": "display_data"
    }
   ],
   "source": [
    "fig = plt.figure(figsize=(8,6))\n",
    "sns.heatmap(df.corr(method = 'pearson'), square= True, cmap=\"YlGnBu\")\n",
    "plt.show()"
   ]
  },
  {
   "cell_type": "markdown",
   "metadata": {},
   "source": [
    "*Correlation matrix*\n",
    "Here, we can see that the features that have the highest correlation to target are chest pain type, exercise angina, ST slope, and max heart rate. Basic algorithms are expected to work off of these the most to find the classification model."
   ]
  },
  {
   "cell_type": "code",
   "execution_count": 10,
   "metadata": {
    "scrolled": true
   },
   "outputs": [
    {
     "data": {
      "text/plain": [
       "cardio         1.000000\n",
       "ap_hi          0.244043\n",
       "age            0.235834\n",
       "cholesterol    0.228655\n",
       "weight         0.169164\n",
       "gluc           0.103744\n",
       "ap_lo          0.085772\n",
       "gender         0.000097\n",
       "alco          -0.002791\n",
       "height        -0.004754\n",
       "id            -0.007103\n",
       "smoke         -0.020640\n",
       "active        -0.027551\n",
       "Name: cardio, dtype: float64"
      ]
     },
     "execution_count": 10,
     "metadata": {},
     "output_type": "execute_result"
    }
   ],
   "source": [
    "corr_matrix = df.corr()\n",
    "corr_matrix['cardio'].sort_values(ascending=False)"
   ]
  },
  {
   "cell_type": "markdown",
   "metadata": {},
   "source": [
    "As you can see, there is not high correlation between any of the data"
   ]
  },
  {
   "cell_type": "markdown",
   "metadata": {},
   "source": [
    "# Scaling and Splitting"
   ]
  },
  {
   "cell_type": "code",
   "execution_count": 11,
   "metadata": {},
   "outputs": [],
   "source": [
    "X = df.iloc[:,:-1].values\n",
    "y = df.iloc[:, -1].values"
   ]
  },
  {
   "cell_type": "code",
   "execution_count": 12,
   "metadata": {},
   "outputs": [
    {
     "data": {
      "text/plain": [
       "array([1.0000e+00, 2.0228e+04, 1.0000e+00, 1.5600e+02, 8.5000e+01,\n",
       "       1.4000e+02, 9.0000e+01, 3.0000e+00, 1.0000e+00, 0.0000e+00,\n",
       "       0.0000e+00, 1.0000e+00])"
      ]
     },
     "execution_count": 12,
     "metadata": {},
     "output_type": "execute_result"
    }
   ],
   "source": [
    "X[1]"
   ]
  },
  {
   "cell_type": "code",
   "execution_count": 13,
   "metadata": {},
   "outputs": [],
   "source": [
    "scaler = StandardScaler()\n",
    "X = scaler.fit_transform(X)"
   ]
  },
  {
   "cell_type": "code",
   "execution_count": 14,
   "metadata": {},
   "outputs": [
    {
     "data": {
      "text/plain": [
       "array([-1.72580583,  0.29593018, -0.7395501 , -1.04724216,  0.69574915,\n",
       "        0.47458818, -0.03990258,  2.33353788, -0.4060703 , -0.31610574,\n",
       "       -0.23648663,  0.50809858])"
      ]
     },
     "execution_count": 14,
     "metadata": {},
     "output_type": "execute_result"
    }
   ],
   "source": [
    "X[1]"
   ]
  },
  {
   "cell_type": "code",
   "execution_count": 15,
   "metadata": {
    "scrolled": true
   },
   "outputs": [],
   "source": [
    "sss = StratifiedShuffleSplit(n_splits=2, test_size=0.99, random_state=32)\n",
    "for train_index, test_index in sss.split(X,y):\n",
    "    X_train, X_test = X[train_index], X[test_index]\n",
    "    y_train, y_test = y[train_index], y[test_index]"
   ]
  },
  {
   "cell_type": "markdown",
   "metadata": {},
   "source": [
    "## Support Vector Machines"
   ]
  },
  {
   "cell_type": "code",
   "execution_count": 16,
   "metadata": {},
   "outputs": [
    {
     "data": {
      "text/plain": [
       "SVC(C=1.0, break_ties=False, cache_size=200, class_weight=None, coef0=0.0,\n",
       "    decision_function_shape='ovr', degree=3, gamma='scale', kernel='rbf',\n",
       "    max_iter=-1, probability=False, random_state=None, shrinking=True,\n",
       "    tol=0.001, verbose=False)"
      ]
     },
     "execution_count": 16,
     "metadata": {},
     "output_type": "execute_result"
    }
   ],
   "source": [
    "svc = svm.SVC(kernel = \"rbf\")\n",
    "svc.fit(X_train, y_train)"
   ]
  },
  {
   "cell_type": "code",
   "execution_count": 17,
   "metadata": {},
   "outputs": [],
   "source": [
    "y_pred = svc.predict(X_test)"
   ]
  },
  {
   "cell_type": "code",
   "execution_count": 18,
   "metadata": {
    "scrolled": true
   },
   "outputs": [
    {
     "name": "stdout",
     "output_type": "stream",
     "text": [
      "              precision    recall  f1-score   support\n",
      "\n",
      "           0       0.56      0.51      0.53      1423\n",
      "           1       0.55      0.60      0.57      1400\n",
      "\n",
      "    accuracy                           0.55      2823\n",
      "   macro avg       0.55      0.55      0.55      2823\n",
      "weighted avg       0.55      0.55      0.55      2823\n",
      "\n"
     ]
    }
   ],
   "source": [
    "print(metrics.classification_report(y_test, y_pred))"
   ]
  },
  {
   "cell_type": "code",
   "execution_count": 19,
   "metadata": {
    "scrolled": false
   },
   "outputs": [
    {
     "data": {
      "text/plain": [
       "<matplotlib.axes._subplots.AxesSubplot at 0x2828115a288>"
      ]
     },
     "execution_count": 19,
     "metadata": {},
     "output_type": "execute_result"
    },
    {
     "data": {
      "image/png": "[encoded data removed]",
      "text/plain": [
       "<Figure size 432x288 with 2 Axes>"
      ]
     },
     "metadata": {
      "needs_background": "light"
     },
     "output_type": "display_data"
    }
   ],
   "source": [
    "sns.heatmap(metrics.confusion_matrix(y_test, y_pred), annot=True)"
   ]
  },
  {
   "cell_type": "markdown",
   "metadata": {},
   "source": [
    " # FSVM-CIL"
   ]
  },
  {
   "cell_type": "code",
   "execution_count": 20,
   "metadata": {},
   "outputs": [],
   "source": [
    "# import convex optimization package\n",
    "from cvxopt import matrix as c_matrix\n",
    "from cvxopt import solvers as c_solvers\n",
    "\n",
    "# define guassian kernel (depends on distance)\n",
    "# K(X1,X2) = exponent(-sigma||X1-X1||^2)\n",
    "\n",
    "def gaussian_kernel(xg, yg, sigma=100.0):\n",
    "    x=np.asarray(xg)\n",
    "    y=np.asarray(yg)\n",
    "    return np.exp((-np.linalg.norm(x-y)**2) / (2 * (sigma ** 2)))\n",
    "\n",
    "# define FSVM object\n",
    "\n",
    "class FSVM(object):\n",
    "    \n",
    "    #object initialisation\n",
    "    def __init__(self, kernel = gaussian_kernel, C=None):\n",
    "        self.kernel = kernel\n",
    "        self.C = C\n",
    "        if self.C is not None: \n",
    "            self.C = float(self.C)\n",
    "    \n",
    "    #Fuzzy membership function\n",
    "    \n",
    "    def m_func(self, X, y, type = 1):\n",
    "        n_samples, n_featuers = X.shape\n",
    "        \n",
    "        # calculate gaussian kernels\n",
    "        \n",
    "        self.K = np.zeros((n_samples, n_samples))\n",
    "        for i in range(n_samples):\n",
    "            for j in range(n_samples):\n",
    "                self.K[i,j] = self.kernel(X[i], X[j])\n",
    "        \n",
    "        # defining variables for Quadratic problem\n",
    "        P = c_matrix(np.outer(y,y) *self.K)\n",
    "        q = c_matrix(np.ones(n_samples)*-1)\n",
    "        A = c_matrix(y, (1, n_samples))\n",
    "        A = c_matrix(A, (1, n_samples), 'd')\n",
    "        b = c_matrix(0.0)\n",
    "        \n",
    "        if self.C is None:\n",
    "            G = c_matrix(np.diag(np.ones(n_samples) * -1))\n",
    "            h = c_matrix(np.zeros(n_samples))\n",
    "        else:\n",
    "            tmp1 = np.diag(np.ones(n_samples) * -1)\n",
    "            tmp2 = np.identity(n_samples)\n",
    "            G = c_matrix(np.vstack((tmp1, tmp2)))\n",
    "            tmp1 = np.zeros(n_samples)\n",
    "            tmp2 = np.ones(n_samples) * self.C\n",
    "            h = c_matrix(np.hstack((tmp1, tmp2)))  \n",
    "        \n",
    "        # Solve the QP\n",
    "        \n",
    "        self.solution = c_solvers.qp(P,q,G,h,A,b)\n",
    "        print(self.solution['status'])                # check solution has been dfound\n",
    "        \n",
    "        #find Lagrange multipliers\n",
    "        lm = np.ravel(self.solution['x'])\n",
    "        lm_org = np.ravel(self.solution['x'])\n",
    "        # Since svm have non legrange multipliers, assign non zero values\n",
    "        supvec = lm > 1e-5\n",
    "        index = np.arange(len(lm))[supvec]\n",
    "        self.lm_org = lm\n",
    "        self.lm = lm[supvec]         # number of support vectors\n",
    "        self.supvec = X[supvec]\n",
    "        self.supvec_y = y[supvec]\n",
    "        self.supvec_yorg = y\n",
    "        print(\"%d support vectors out of %d points\" % (len(self.lm), n_samples))\n",
    "        \n",
    "        X = np.asarray(X)\n",
    "        \n",
    "        #calculate intercept \n",
    "        \n",
    "        self.ic = 0\n",
    "        for i in range(len(self.lm)):\n",
    "            self.ic += self.supvec_y[i]\n",
    "            self.ic -= np.sum(self.lm * self.supvec_y * self.K[index[i],supvec])\n",
    "        self.ic /= len(self.lm)\n",
    "        \n",
    "        # calculate weight vector\n",
    "        w_phi = 0\n",
    "        total = 0\n",
    "        for i in range(len(self.lm_org)):\n",
    "            w_phi = self.lm_org[i] * self.supvec_yorg[i] * self.K[i]\n",
    "        \n",
    "        #hyperplane (to calculate value)\n",
    "        self.hyp = np.zeros(n_samples)\n",
    "        for i in range (len(self.lm_org)):\n",
    "            self.hyp += self.supvec_yorg[i] * (w_phi+self.ic)\n",
    "        \n",
    "        # fuzzy membership functions - linear and exponential\n",
    "        f_func = np.zeros((n_samples))\n",
    "        f_func = np.asarray(f_func)\n",
    "        beta = 0.8\n",
    "        if type ==1:\n",
    "            for i in range(n_samples):\n",
    "                f_func[i] = 1 - self.hyp[i]/(self.hyp.max() + 0.00001)\n",
    "        else:\n",
    "            for i in range(n_samples):\n",
    "                f_func[i] = 2/(1+beta*self.hyp[i])\n",
    "        \n",
    "        min_count =0\n",
    "        maj_count = 0\n",
    "        for i in range (len(y)):\n",
    "            if y[i] == 0:\n",
    "                min_count += 1;\n",
    "            else:\n",
    "                maj_count+=1;\n",
    "        r_pos = 1\n",
    "        r_neg = min_count/maj_count #minority-to-majority class ratio\n",
    "        self.m = f_func[0:maj_count]*r_pos\n",
    "        self.m = np.append(self.m, f_func[maj_count:]*r_neg)\n",
    "        \n",
    "    # FIT FUNCTION\n",
    "        \n",
    "    def fit(self, X, y, kernel = gaussian_kernel):\n",
    "        self.m_func(X, y)\n",
    "        self.kernel = kernel\n",
    "        n_samples, n_features = X.shape\n",
    "        \n",
    "        # Gram matrix\n",
    "        Kfsvm = np.zeros((n_samples, n_samples))\n",
    "        for i in range(n_samples):\n",
    "            for j in range(n_samples):\n",
    "                Kfsvm[i,j] = gaussian_kernel(self.m[i], self.m[j])\n",
    "        \n",
    "        P = c_matrix(np.outer(y,y) * Kfsvm)\n",
    "        q = c_matrix(np.ones(n_samples) * -1)\n",
    "        A = c_matrix(y, (1,n_samples))\n",
    "        A = c_matrix(A, (1,n_samples), 'd') #changes done\n",
    "        b = c_matrix(0.0)\n",
    "        \n",
    "        if self.C is None:\n",
    "            G = c_matrix(np.diag(np.ones(n_samples) * -1))\n",
    "            h = c_matrix(np.zeros(n_samples))\n",
    "            \n",
    "        else:\n",
    "            tmp1 = np.diag(np.ones(n_samples) * -1)\n",
    "            tmp2 = np.identity(n_samples)\n",
    "            G = c_matrix(np.vstack((tmp1, tmp2)))\n",
    "            tmp1 = np.zeros(n_samples)\n",
    "            tmp2 = np.ones(n_samples) * self.C\n",
    "            h = c_matrix(np.hstack((tmp1, tmp2)))\n",
    "        \n",
    "        fsolution = c_solvers.qp(P, q, G, h, A, b)\n",
    "        print(fsolution['status'])\n",
    "        lm = np.ravel(fsolution['x'])\n",
    "        lm_org = np.ravel(fsolution['x'])\n",
    "        # Support vectors have non zero lagrange multipliers\n",
    "        #  Use m matrix calculated in m_func\n",
    "        for i in range(n_samples):\n",
    "            supvec=np.logical_or(lm_org <self.m, lm_org > 1e-5)\n",
    "        \n",
    "        index = np.arange(len(lm))[supvec]\n",
    "        self.lm = lm[supvec]\n",
    "        self.supvec = self.m[supvec]\n",
    "        self.supvec_y = y[supvec]\n",
    "\n",
    "        # Intercept\n",
    "        self.ic = 0\n",
    "        for i in range(len(self.lm)):\n",
    "            self.ic += self.supvec_y[i]\n",
    "            self.ic -= np.sum(self.lm * self.supvec_y * Kfsvm[index[i],supvec])\n",
    "        self.ic /= len(self.lm)\n",
    "\n",
    "        # Weight vector\n",
    "        self.w = None        \n",
    "        \n",
    "    def project(self, X):\n",
    "        y_predict = np.zeros(len(X))\n",
    "        X=np.asarray(X)\n",
    "        for i in range(len(X)):\n",
    "            s = 0\n",
    "            for lm, supvec_y, supvec in zip(self.lm, self.supvec_y, self.supvec):\n",
    "                s += lm * supvec_y * gaussian_kernel(X[i], supvec)\n",
    "            y_predict[i] = s\n",
    "        return y_predict + self.ic\n",
    "\n",
    "    def predict(self, X):\n",
    "        return np.sign(self.project(X))"
   ]
  },
  {
   "cell_type": "code",
   "execution_count": 21,
   "metadata": {
    "scrolled": false
   },
   "outputs": [
    {
     "name": "stdout",
     "output_type": "stream",
     "text": [
      "     pcost       dcost       gap    pres   dres\n",
      " 0: -1.4000e+01 -4.2000e+01  1e+02  1e+00  1e-16\n",
      " 1: -1.1648e+01 -2.2644e+01  1e+01  1e-02  5e-16\n",
      " 2: -1.3751e+01 -1.4204e+01  5e-01  6e-04  3e-16\n",
      " 3: -1.3998e+01 -1.4002e+01  5e-03  6e-06  3e-16\n",
      " 4: -1.4000e+01 -1.4000e+01  5e-05  6e-08  2e-16\n",
      " 5: -1.4000e+01 -1.4000e+01  5e-07  6e-10  3e-16\n",
      "Optimal solution found.\n",
      "optimal\n",
      "14 support vectors out of 28 points\n",
      "     pcost       dcost       gap    pres   dres\n",
      " 0: -1.4000e+01 -4.2000e+01  1e+02  1e+00  1e-16\n",
      " 1: -1.1648e+01 -2.2644e+01  1e+01  1e-02  5e-16\n",
      " 2: -1.3751e+01 -1.4204e+01  5e-01  6e-04  3e-16\n",
      " 3: -1.3998e+01 -1.4002e+01  5e-03  6e-06  4e-16\n",
      " 4: -1.4000e+01 -1.4000e+01  5e-05  6e-08  4e-16\n",
      " 5: -1.4000e+01 -1.4000e+01  5e-07  6e-10  3e-16\n",
      "Optimal solution found.\n",
      "optimal\n"
     ]
    }
   ],
   "source": [
    "clf = FSVM(C = 1)\n",
    "clf.fit(X_train, y_train)\n",
    "y_predfsvm = clf.predict(X_test)"
   ]
  },
  {
   "cell_type": "code",
   "execution_count": 22,
   "metadata": {
    "scrolled": true
   },
   "outputs": [
    {
     "name": "stdout",
     "output_type": "stream",
     "text": [
      "2215 out of 2823 predictions correct\n",
      "Accuracy 0.7846262840949345\n",
      "Precision 0.8807157057654076\n"
     ]
    }
   ],
   "source": [
    "tp = np.sum(y_predfsvm == y_test)\n",
    "fp = 0\n",
    "for i in range(len(y_test)):\n",
    "    if y_predfsvm[i] == 1 and y_test[i] != 1:\n",
    "        fp += 1\n",
    "print(\"%d out of %d predictions correct\" % (tp, len(y_test)))\n",
    "print(\"Accuracy\",tp/len(y_test))\n",
    "print(\"Precision\", tp/(tp+fp))"
   ]
  }
 ],
 "metadata": {
  "kernelspec": {
   "display_name": "Python 3",
   "language": "python",
   "name": "python3"
  },
  "language_info": {
   "codemirror_mode": {
    "name": "ipython",
    "version": 3
   },
   "file_extension": ".py",
   "mimetype": "text/x-python",
   "name": "python",
   "nbconvert_exporter": "python",
   "pygments_lexer": "ipython3",
   "version": "3.7.6"
  }
 },
 "nbformat": 4,
 "nbformat_minor": 4
}
